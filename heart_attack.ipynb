{
  "nbformat": 4,
  "nbformat_minor": 0,
  "metadata": {
    "colab": {
      "name": "heart_attack.ipynb",
      "provenance": [],
      "authorship_tag": "ABX9TyOXjHOJlJNQ60hvUWkk/u7M",
      "include_colab_link": true
    },
    "kernelspec": {
      "name": "python3",
      "display_name": "Python 3"
    },
    "language_info": {
      "name": "python"
    }
  },
  "cells": [
    {
      "cell_type": "markdown",
      "metadata": {
        "id": "view-in-github",
        "colab_type": "text"
      },
      "source": [
        "<a href=\"https://colab.research.google.com/github/alecgarza96/Heart-Attack-Predictions/blob/main/heart_attack.ipynb\" target=\"_parent\"><img src=\"https://colab.research.google.com/assets/colab-badge.svg\" alt=\"Open In Colab\"/></a>"
      ]
    },
    {
      "cell_type": "code",
      "metadata": {
        "colab": {
          "base_uri": "https://localhost:8080/"
        },
        "id": "AcbOlElLH-n_",
        "outputId": "bd3c673f-7fdc-402e-c3aa-fc66b676a320"
      },
      "source": [
        "import pandas as pd\n",
        "import numpy as np\n",
        "import matplotlib.pyplot as plt\n",
        "import seaborn as sns\n",
        "from sklearn import preprocessing\n",
        "from sklearn.preprocessing import RobustScaler\n",
        "from sklearn.ensemble import RandomForestClassifier\n",
        "from sklearn.model_selection import train_test_split\n",
        "from sklearn.svm import SVC\n",
        "from sklearn.linear_model import LogisticRegression\n",
        "\n",
        "def make_distr_plot(dataset, X, title):\n",
        "  sns.displot(data=dataset, x=X)\n",
        "  plt.xticks(rotation=90)\n",
        "  plt.title(title)\n",
        "  plt.show()\n",
        "\n",
        "def get_score(model, X_train, X_test, y_train, y_test):\n",
        "  model.fit(X_train,y_train)\n",
        "  return model.score(X_test, y_test)\n",
        "\n",
        "def unique_val_dict(df):\n",
        "  dict = {}\n",
        "  for i in list(df.columns):\n",
        "    dict[i] = df[i].value_counts().shape[0]\n",
        "\n",
        "  return pd.DataFrame(dict,index=[\"unique count\"]).transpose()\n",
        "\n",
        "\n",
        "heart_df = pd.read_csv('/content/heart.csv')\n",
        "o2 = pd.read_csv('/content/o2Saturation.csv')\n",
        "\n",
        "print(\"Dataset overview\")\n",
        "print(heart_df.head())\n",
        "\n",
        "print(\"\\nDataset Statistical Overview\")\n",
        "print(heart_df.describe())\n",
        "\n",
        "print('\\nTotal Missing values in each dataset')\n",
        "print(heart_df.isnull().sum())\n",
        "\n",
        "print('\\nChecking datatypes')\n",
        "print(heart_df.dtypes)\n",
        "\n",
        "print(\"\\nChecking and Removing Duplicate Rows\")\n",
        "print(heart_df[heart_df.duplicated()])\n",
        "heart_df.drop_duplicates(inplace=True)\n",
        "\n",
        "print(\"\\nThe shape of data is: \")\n",
        "print(heart_df.shape)\n",
        "\n",
        "print('\\nChecking Unique Values')\n",
        "unique_vals = unique_val_dict(heart_df)\n",
        "print(unique_vals)"
      ],
      "execution_count": 192,
      "outputs": [
        {
          "output_type": "stream",
          "text": [
            "Dataset overview\n",
            "   age  sex  cp  trtbps  chol  fbs  ...  exng  oldpeak  slp  caa  thall  output\n",
            "0   63    1   3     145   233    1  ...     0      2.3    0    0      1       1\n",
            "1   37    1   2     130   250    0  ...     0      3.5    0    0      2       1\n",
            "2   41    0   1     130   204    0  ...     0      1.4    2    0      2       1\n",
            "3   56    1   1     120   236    0  ...     0      0.8    2    0      2       1\n",
            "4   57    0   0     120   354    0  ...     1      0.6    2    0      2       1\n",
            "\n",
            "[5 rows x 14 columns]\n",
            "\n",
            "Dataset Statistical Overview\n",
            "              age         sex          cp  ...         caa       thall      output\n",
            "count  303.000000  303.000000  303.000000  ...  303.000000  303.000000  303.000000\n",
            "mean    54.366337    0.683168    0.966997  ...    0.729373    2.313531    0.544554\n",
            "std      9.082101    0.466011    1.032052  ...    1.022606    0.612277    0.498835\n",
            "min     29.000000    0.000000    0.000000  ...    0.000000    0.000000    0.000000\n",
            "25%     47.500000    0.000000    0.000000  ...    0.000000    2.000000    0.000000\n",
            "50%     55.000000    1.000000    1.000000  ...    0.000000    2.000000    1.000000\n",
            "75%     61.000000    1.000000    2.000000  ...    1.000000    3.000000    1.000000\n",
            "max     77.000000    1.000000    3.000000  ...    4.000000    3.000000    1.000000\n",
            "\n",
            "[8 rows x 14 columns]\n",
            "\n",
            "Total Missing values in each dataset\n",
            "age         0\n",
            "sex         0\n",
            "cp          0\n",
            "trtbps      0\n",
            "chol        0\n",
            "fbs         0\n",
            "restecg     0\n",
            "thalachh    0\n",
            "exng        0\n",
            "oldpeak     0\n",
            "slp         0\n",
            "caa         0\n",
            "thall       0\n",
            "output      0\n",
            "dtype: int64\n",
            "\n",
            "Checking datatypes\n",
            "age           int64\n",
            "sex           int64\n",
            "cp            int64\n",
            "trtbps        int64\n",
            "chol          int64\n",
            "fbs           int64\n",
            "restecg       int64\n",
            "thalachh      int64\n",
            "exng          int64\n",
            "oldpeak     float64\n",
            "slp           int64\n",
            "caa           int64\n",
            "thall         int64\n",
            "output        int64\n",
            "dtype: object\n",
            "\n",
            "Checking and Removing Duplicate Rows\n",
            "     age  sex  cp  trtbps  chol  fbs  ...  exng  oldpeak  slp  caa  thall  output\n",
            "164   38    1   2     138   175    0  ...     0      0.0    2    4      2       1\n",
            "\n",
            "[1 rows x 14 columns]\n",
            "\n",
            "The shape of data is: \n",
            "(302, 14)\n",
            "\n",
            "Checking Unique Values\n",
            "          unique count\n",
            "age                 41\n",
            "sex                  2\n",
            "cp                   4\n",
            "trtbps              49\n",
            "chol               152\n",
            "fbs                  2\n",
            "restecg              3\n",
            "thalachh            91\n",
            "exng                 2\n",
            "oldpeak             40\n",
            "slp                  3\n",
            "caa                  5\n",
            "thall                4\n",
            "output               2\n"
          ],
          "name": "stdout"
        }
      ]
    },
    {
      "cell_type": "code",
      "metadata": {
        "colab": {
          "base_uri": "https://localhost:8080/"
        },
        "id": "nod_RGtaMhpQ",
        "outputId": "5cf1219c-c9d9-4fb3-b943-ca3675e57248"
      },
      "source": [
        "categorical_cols = [x for x in heart_df.columns if heart_df[x].max() == 1]\n",
        "categorical_cols.append('cp')\n",
        "categorical_cols.append('restecg')\n",
        "categorical_cols.append('caa')\n",
        "categorical_cols.append('thall')\n",
        "categorical_cols.append('slp')\n",
        "categorical_cols.remove('output')\n",
        "print(\"Categorical columns:\", categorical_cols)\n",
        "\n",
        "continuous_cols = [x for x in heart_df.columns if heart_df[x].max() != 1]\n",
        "continuous_cols.remove('cp')\n",
        "continuous_cols.remove('restecg')\n",
        "continuous_cols.remove('thall')\n",
        "continuous_cols.remove('caa')\n",
        "continuous_cols.remove('slp')\n",
        "print(\"Continuous columns:\", continuous_cols)"
      ],
      "execution_count": 193,
      "outputs": [
        {
          "output_type": "stream",
          "text": [
            "Categorical columns: ['sex', 'fbs', 'exng', 'cp', 'restecg', 'caa', 'thall', 'slp']\n",
            "Continuous columns: ['age', 'trtbps', 'chol', 'thalachh', 'oldpeak']\n"
          ],
          "name": "stdout"
        }
      ]
    },
    {
      "cell_type": "code",
      "metadata": {
        "colab": {
          "base_uri": "https://localhost:8080/",
          "height": 1000
        },
        "id": "HSDRKhTSPmUH",
        "outputId": "d5739a84-9708-43d9-bcb0-ba56f4fc35ef"
      },
      "source": [
        "for col in range(len(continuous_cols)):\n",
        "  make_distr_plot(heart_df, continuous_cols[col], continuous_cols[col]+\" distribution\")\n",
        "  print('\\n')"
      ],
      "execution_count": 194,
      "outputs": [
        {
          "output_type": "display_data",
          "data": {
            "image/png": "[encoded data removed]",
            "text/plain": [
              "<Figure size 360x360 with 1 Axes>"
            ]
          },
          "metadata": {
            "tags": [],
            "needs_background": "light"
          }
        },
        {
          "output_type": "stream",
          "text": [
            "\n",
            "\n"
          ],
          "name": "stdout"
        },
        {
          "output_type": "display_data",
          "data": {
            "image/png": "[encoded data removed]",
            "text/plain": [
              "<Figure size 360x360 with 1 Axes>"
            ]
          },
          "metadata": {
            "tags": [],
            "needs_background": "light"
          }
        },
        {
          "output_type": "stream",
          "text": [
            "\n",
            "\n"
          ],
          "name": "stdout"
        },
        {
          "output_type": "display_data",
          "data": {
            "image/png": "[encoded data removed]",
            "text/plain": [
              "<Figure size 360x360 with 1 Axes>"
            ]
          },
          "metadata": {
            "tags": [],
            "needs_background": "light"
          }
        },
        {
          "output_type": "stream",
          "text": [
            "\n",
            "\n"
          ],
          "name": "stdout"
        },
        {
          "output_type": "display_data",
          "data": {
            "image/png": "[encoded data removed]",
            "text/plain": [
              "<Figure size 360x360 with 1 Axes>"
            ]
          },
          "metadata": {
            "tags": [],
            "needs_background": "light"
          }
        },
        {
          "output_type": "stream",
          "text": [
            "\n",
            "\n"
          ],
          "name": "stdout"
        },
        {
          "output_type": "display_data",
          "data": {
            "image/png": "[encoded data removed]",
            "text/plain": [
              "<Figure size 360x360 with 1 Axes>"
            ]
          },
          "metadata": {
            "tags": [],
            "needs_background": "light"
          }
        },
        {
          "output_type": "stream",
          "text": [
            "\n",
            "\n"
          ],
          "name": "stdout"
        }
      ]
    },
    {
      "cell_type": "markdown",
      "metadata": {
        "id": "ZyCgOizsdslF"
      },
      "source": [
        "Sex Breakdown"
      ]
    },
    {
      "cell_type": "code",
      "metadata": {
        "colab": {
          "base_uri": "https://localhost:8080/",
          "height": 295
        },
        "id": "b3pLRQzOT7Jg",
        "outputId": "c7100485-4f5d-463f-d96d-b601598cf8c4"
      },
      "source": [
        "sns.countplot(data=heart_df, x='sex')\n",
        "plt.title(\"Total Gender Count\")\n",
        "plt.show()"
      ],
      "execution_count": 195,
      "outputs": [
        {
          "output_type": "display_data",
          "data": {
            "image/png": "[encoded data removed]",
            "text/plain": [
              "<Figure size 432x288 with 1 Axes>"
            ]
          },
          "metadata": {
            "tags": [],
            "needs_background": "light"
          }
        }
      ]
    },
    {
      "cell_type": "code",
      "metadata": {
        "colab": {
          "base_uri": "https://localhost:8080/",
          "height": 295
        },
        "id": "WhPjjKgReHl4",
        "outputId": "47857068-0b05-4e20-e87d-93c946ce4faf"
      },
      "source": [
        "sns.countplot(data=heart_df.loc[heart_df['output']==1], x='sex')\n",
        "plt.title(\"Heart Attacks by Gender\")\n",
        "plt.show()"
      ],
      "execution_count": 196,
      "outputs": [
        {
          "output_type": "display_data",
          "data": {
            "image/png": "[encoded data removed]",
            "text/plain": [
              "<Figure size 432x288 with 1 Axes>"
            ]
          },
          "metadata": {
            "tags": [],
            "needs_background": "light"
          }
        }
      ]
    },
    {
      "cell_type": "code",
      "metadata": {
        "id": "rgQphpW6V9bJ"
      },
      "source": [
        "dfcopy = heart_df\n",
        "\n",
        "dfcopy = pd.get_dummies(dfcopy, columns = categorical_cols, drop_first=True)\n",
        "\n",
        "y, X = dfcopy['output'], dfcopy.drop('output', axis=1)\n",
        "\n",
        "X[continuous_cols] = RobustScaler().fit_transform(X[continuous_cols])\n",
        "\n",
        "X_train, X_test, y_train, y_test = train_test_split(X, y, test_size=0.2, random_state=0)"
      ],
      "execution_count": 197,
      "outputs": []
    },
    {
      "cell_type": "code",
      "metadata": {
        "colab": {
          "base_uri": "https://localhost:8080/"
        },
        "id": "NC5cjKE4XEpB",
        "outputId": "caffc8b3-d002-4726-8bd2-6a7ae4886262"
      },
      "source": [
        "print(\"Support Vector Classifier Score:\", get_score(SVC(), X_train, X_test, y_train, y_test)*100)\n",
        "print(\"Logistic Regression Score:\",get_score(LogisticRegression(), X_train, X_test, y_train, y_test)*100)\n",
        "print(\"Random Forest Classifer Score:\",get_score(RandomForestClassifier(), X_train, X_test, y_train, y_test)*100)\n"
      ],
      "execution_count": 198,
      "outputs": [
        {
          "output_type": "stream",
          "text": [
            "Support Vector Classifier Score: 85.24590163934425\n",
            "Logistic Regression Score: 88.52459016393442\n",
            "Random Forest Classifer Score: 85.24590163934425\n"
          ],
          "name": "stdout"
        }
      ]
    }
  ]
}